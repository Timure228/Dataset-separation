{
  "nbformat": 4,
  "nbformat_minor": 0,
  "metadata": {
    "colab": {
      "provenance": [],
      "authorship_tag": "ABX9TyMe37W7Js5RDE1UcBJN9/bj",
      "include_colab_link": true
    },
    "kernelspec": {
      "name": "python3",
      "display_name": "Python 3"
    },
    "language_info": {
      "name": "python"
    }
  },
  "cells": [
    {
      "cell_type": "markdown",
      "metadata": {
        "id": "view-in-github",
        "colab_type": "text"
      },
      "source": [
        "<a href=\"https://colab.research.google.com/github/Timure228/Dataset-separation/blob/main/separate_aircrafts.ipynb\" target=\"_parent\"><img src=\"https://colab.research.google.com/assets/colab-badge.svg\" alt=\"Open In Colab\"/></a>"
      ]
    },
    {
      "cell_type": "markdown",
      "source": [
        "# I'm going to decrease the `torchvision.datasets.FGVCAircraft`\n",
        "\n",
        "It contains 6'667 images of 100 classes.\n",
        "\n",
        "The data will be in a zip file, train and test directions and one folder per class."
      ],
      "metadata": {
        "id": "-fb_VQ2pyT8h"
      }
    },
    {
      "cell_type": "code",
      "source": [
        "# Import libraries and set the directory\n",
        "import torch\n",
        "import torchvision\n",
        "import pathlib\n",
        "import matplotlib.pyplot as plt\n",
        "\n",
        "data_dir = pathlib.Path(\"../content/aircrafts\")"
      ],
      "metadata": {
        "id": "ZBxPFyp_zbXG"
      },
      "execution_count": 1,
      "outputs": []
    },
    {
      "cell_type": "code",
      "source": [
        "# Load the dataset\n",
        "\n",
        "# Train dataset\n",
        "train_dataset = torchvision.datasets.FGVCAircraft(root=data_dir,\n",
        "                                                  split=\"train\",\n",
        "                                                  # transform=torchvision.transforms.ToTensor(),\n",
        "                                                  download=True)\n",
        "\n",
        "# Test dataset\n",
        "test_dataset = torchvision.datasets.FGVCAircraft(root=data_dir,\n",
        "                                                 split=\"test\",\n",
        "                                                 # transform=torchvision.transforms.ToTensor(),\n",
        "                                                 download=True)\n",
        "\n"
      ],
      "metadata": {
        "id": "yxRl8rwQzq3l",
        "colab": {
          "base_uri": "https://localhost:8080/"
        },
        "outputId": "5cab7542-3eef-4e89-9b89-b794f2b0d766"
      },
      "execution_count": 2,
      "outputs": [
        {
          "output_type": "stream",
          "name": "stdout",
          "text": [
            "Downloading https://www.robots.ox.ac.uk/~vgg/data/fgvc-aircraft/archives/fgvc-aircraft-2013b.tar.gz to ../content/aircrafts/fgvc-aircraft-2013b.tar.gz\n"
          ]
        },
        {
          "output_type": "stream",
          "name": "stderr",
          "text": [
            "100%|██████████| 2.75G/2.75G [01:29<00:00, 30.8MB/s]\n"
          ]
        },
        {
          "output_type": "stream",
          "name": "stdout",
          "text": [
            "Extracting ../content/aircrafts/fgvc-aircraft-2013b.tar.gz to ../content/aircrafts\n"
          ]
        }
      ]
    },
    {
      "cell_type": "code",
      "source": [
        "train_dataloader = torch.utils.data.DataLoader(dataset=train_dataset,\n",
        "                              shuffle=True)\n",
        "\n",
        "test_dataloader = torch.utils.data.DataLoader(dataset=test_dataset,\n",
        "                             shuffle=False)"
      ],
      "metadata": {
        "id": "Y_Ej0m8NSDL8"
      },
      "execution_count": 3,
      "outputs": []
    },
    {
      "cell_type": "code",
      "source": [
        "classes_name = train_dataset.classes"
      ],
      "metadata": {
        "id": "QLnympzu38Rv"
      },
      "execution_count": 4,
      "outputs": []
    },
    {
      "cell_type": "code",
      "source": [
        "classes_name"
      ],
      "metadata": {
        "colab": {
          "base_uri": "https://localhost:8080/"
        },
        "id": "OyOlP3dls3i3",
        "outputId": "fefe5197-4138-45a1-b472-89cf9883dc53",
        "collapsed": true
      },
      "execution_count": null,
      "outputs": [
        {
          "output_type": "execute_result",
          "data": {
            "text/plain": [
              "['707-320',\n",
              " '727-200',\n",
              " '737-200',\n",
              " '737-300',\n",
              " '737-400',\n",
              " '737-500',\n",
              " '737-600',\n",
              " '737-700',\n",
              " '737-800',\n",
              " '737-900',\n",
              " '747-100',\n",
              " '747-200',\n",
              " '747-300',\n",
              " '747-400',\n",
              " '757-200',\n",
              " '757-300',\n",
              " '767-200',\n",
              " '767-300',\n",
              " '767-400',\n",
              " '777-200',\n",
              " '777-300',\n",
              " 'A300B4',\n",
              " 'A310',\n",
              " 'A318',\n",
              " 'A319',\n",
              " 'A320',\n",
              " 'A321',\n",
              " 'A330-200',\n",
              " 'A330-300',\n",
              " 'A340-200',\n",
              " 'A340-300',\n",
              " 'A340-500',\n",
              " 'A340-600',\n",
              " 'A380',\n",
              " 'ATR-42',\n",
              " 'ATR-72',\n",
              " 'An-12',\n",
              " 'BAE 146-200',\n",
              " 'BAE 146-300',\n",
              " 'BAE-125',\n",
              " 'Beechcraft 1900',\n",
              " 'Boeing 717',\n",
              " 'C-130',\n",
              " 'C-47',\n",
              " 'CRJ-200',\n",
              " 'CRJ-700',\n",
              " 'CRJ-900',\n",
              " 'Cessna 172',\n",
              " 'Cessna 208',\n",
              " 'Cessna 525',\n",
              " 'Cessna 560',\n",
              " 'Challenger 600',\n",
              " 'DC-10',\n",
              " 'DC-3',\n",
              " 'DC-6',\n",
              " 'DC-8',\n",
              " 'DC-9-30',\n",
              " 'DH-82',\n",
              " 'DHC-1',\n",
              " 'DHC-6',\n",
              " 'DHC-8-100',\n",
              " 'DHC-8-300',\n",
              " 'DR-400',\n",
              " 'Dornier 328',\n",
              " 'E-170',\n",
              " 'E-190',\n",
              " 'E-195',\n",
              " 'EMB-120',\n",
              " 'ERJ 135',\n",
              " 'ERJ 145',\n",
              " 'Embraer Legacy 600',\n",
              " 'Eurofighter Typhoon',\n",
              " 'F-16A/B',\n",
              " 'F/A-18',\n",
              " 'Falcon 2000',\n",
              " 'Falcon 900',\n",
              " 'Fokker 100',\n",
              " 'Fokker 50',\n",
              " 'Fokker 70',\n",
              " 'Global Express',\n",
              " 'Gulfstream IV',\n",
              " 'Gulfstream V',\n",
              " 'Hawk T1',\n",
              " 'Il-76',\n",
              " 'L-1011',\n",
              " 'MD-11',\n",
              " 'MD-80',\n",
              " 'MD-87',\n",
              " 'MD-90',\n",
              " 'Metroliner',\n",
              " 'Model B200',\n",
              " 'PA-28',\n",
              " 'SR-20',\n",
              " 'Saab 2000',\n",
              " 'Saab 340',\n",
              " 'Spitfire',\n",
              " 'Tornado',\n",
              " 'Tu-134',\n",
              " 'Tu-154',\n",
              " 'Yak-42']"
            ]
          },
          "metadata": {},
          "execution_count": 4
        }
      ]
    },
    {
      "cell_type": "code",
      "source": [
        "# Check the data\n",
        "train_dataset[2][0], train_dataset[2][1]"
      ],
      "metadata": {
        "colab": {
          "base_uri": "https://localhost:8080/"
        },
        "id": "dfTWDWHm3m1_",
        "outputId": "1a215414-d607-4a76-9fdc-2fc597c6de11"
      },
      "execution_count": 7,
      "outputs": [
        {
          "output_type": "execute_result",
          "data": {
            "text/plain": [
              "(<PIL.Image.Image image mode=RGB size=1024x695>, 0)"
            ]
          },
          "metadata": {},
          "execution_count": 7
        }
      ]
    },
    {
      "cell_type": "markdown",
      "source": [
        "## Now let's pick 400 images\n",
        "The path I want is e.g: `../content/separetad_aircraft/train/747-373/img1.jpg`"
      ],
      "metadata": {
        "id": "ejlsIqkbD-Qu"
      }
    },
    {
      "cell_type": "code",
      "source": [
        "import os\n",
        "root = pathlib.Path(\"../content/separated\")\n",
        "\n",
        "# Creates a direction with jpg images\n",
        "def create_dir(root=root, splits=[\"train\", \"test\"], train_dataset=train_dataset, test_dataset=test_dataset):\n",
        "  for split in splits:\n",
        "    if split == \"train\":\n",
        "      for i in range(1100, 1300):\n",
        "        if not (root / split / str(classes_name[train_dataset[i][1]])).is_dir():\n",
        "          (root / split / str(classes_name[train_dataset[i][1]])).mkdir(parents=True, exist_ok=True)\n",
        "        train_dataset[i][0].save(root / split / str(classes_name[train_dataset[i][1]]) / str(f\"img{i}.jpg\"))\n",
        "    else:\n",
        "      for i in range(1100, 1300):\n",
        "        if not (root / split / str(classes_name[train_dataset[i][1]])).is_dir():\n",
        "          (root / split / str(classes_name[train_dataset[i][1]])).mkdir(parents=True, exist_ok=True)\n",
        "        test_dataset[i][0].save(root / split / str(classes_name[train_dataset[i][1]]) / str(f\"img{i}.jpg\"))"
      ],
      "metadata": {
        "id": "9caNA_ZcHNzv"
      },
      "execution_count": 9,
      "outputs": []
    },
    {
      "cell_type": "code",
      "source": [
        "create_dir()"
      ],
      "metadata": {
        "id": "wOv1FetMizkV"
      },
      "execution_count": 10,
      "outputs": []
    },
    {
      "cell_type": "code",
      "source": [
        "# Let's count\n",
        "import os\n",
        "len_img = 0\n",
        "for dirpath, dirnames, filenames in os.walk(\"../content/separated\"):\n",
        "  print(f\"There are {len(dirnames)} directories and {len(filenames)} images in '{dirpath}'.\")\n",
        "  len_img += len(filenames)"
      ],
      "metadata": {
        "colab": {
          "base_uri": "https://localhost:8080/"
        },
        "collapsed": true,
        "id": "Yo8F77yOkdff",
        "outputId": "67ca089a-7896-4a74-b761-fc77a0c9321c"
      },
      "execution_count": 11,
      "outputs": [
        {
          "output_type": "stream",
          "name": "stdout",
          "text": [
            "There are 2 directories and 0 images in '../content/separated'.\n",
            "There are 6 directories and 0 images in '../content/separated/train'.\n",
            "There are 0 directories and 34 images in '../content/separated/train/An-12'.\n",
            "There are 0 directories and 33 images in '../content/separated/train/BAE 146-300'.\n",
            "There are 0 directories and 33 images in '../content/separated/train/ATR-42'.\n",
            "There are 0 directories and 34 images in '../content/separated/train/A380'.\n",
            "There are 0 directories and 33 images in '../content/separated/train/ATR-72'.\n",
            "There are 0 directories and 33 images in '../content/separated/train/BAE 146-200'.\n",
            "There are 6 directories and 0 images in '../content/separated/test'.\n",
            "There are 0 directories and 34 images in '../content/separated/test/An-12'.\n",
            "There are 0 directories and 33 images in '../content/separated/test/BAE 146-300'.\n",
            "There are 0 directories and 33 images in '../content/separated/test/ATR-42'.\n",
            "There are 0 directories and 34 images in '../content/separated/test/A380'.\n",
            "There are 0 directories and 33 images in '../content/separated/test/ATR-72'.\n",
            "There are 0 directories and 33 images in '../content/separated/test/BAE 146-200'.\n"
          ]
        }
      ]
    },
    {
      "cell_type": "code",
      "source": [
        "len_img"
      ],
      "metadata": {
        "colab": {
          "base_uri": "https://localhost:8080/"
        },
        "id": "No95VdvulHI3",
        "outputId": "515c5d4b-970c-49b5-925f-e05b1cd24f52"
      },
      "execution_count": 13,
      "outputs": [
        {
          "output_type": "execute_result",
          "data": {
            "text/plain": [
              "400"
            ]
          },
          "metadata": {},
          "execution_count": 13
        }
      ]
    },
    {
      "cell_type": "code",
      "source": [
        "import shutil\n",
        "zip_directory = \"../content/separated\"\n",
        "shutil.make_archive(f\"separated_aircrafts_{len_img}\",\n",
        "                    format=\"zip\",\n",
        "                    root_dir=zip_directory)"
      ],
      "metadata": {
        "colab": {
          "base_uri": "https://localhost:8080/",
          "height": 35
        },
        "id": "KAevdMigrSPQ",
        "outputId": "5d1a3bab-a3c7-4699-d353-9cfad4b6d64e",
        "collapsed": true
      },
      "execution_count": 14,
      "outputs": [
        {
          "output_type": "execute_result",
          "data": {
            "text/plain": [
              "'/content/separated_aircrafts_400.zip'"
            ],
            "application/vnd.google.colaboratory.intrinsic+json": {
              "type": "string"
            }
          },
          "metadata": {},
          "execution_count": 14
        }
      ]
    },
    {
      "cell_type": "code",
      "source": [
        "# Delete if not needed\n",
        "%rm -rf \"/content/Dataset-separation/separated\""
      ],
      "metadata": {
        "id": "x97u0ehinyNA"
      },
      "execution_count": 15,
      "outputs": []
    },
    {
      "cell_type": "code",
      "source": [
        "!git push --force origin main"
      ],
      "metadata": {
        "colab": {
          "base_uri": "https://localhost:8080/"
        },
        "id": "KW10esyJ9X4C",
        "outputId": "71072430-26b7-4205-f977-6e0d940fe8eb"
      },
      "execution_count": 25,
      "outputs": [
        {
          "output_type": "stream",
          "name": "stdout",
          "text": [
            "Enumerating objects: 214, done.\n",
            "Counting objects:   0% (1/214)\rCounting objects:   1% (3/214)\rCounting objects:   2% (5/214)\rCounting objects:   3% (7/214)\rCounting objects:   4% (9/214)\rCounting objects:   5% (11/214)\rCounting objects:   6% (13/214)\rCounting objects:   7% (15/214)\rCounting objects:   8% (18/214)\rCounting objects:   9% (20/214)\rCounting objects:  10% (22/214)\rCounting objects:  11% (24/214)\rCounting objects:  12% (26/214)\rCounting objects:  13% (28/214)\rCounting objects:  14% (30/214)\rCounting objects:  15% (33/214)\rCounting objects:  16% (35/214)\rCounting objects:  17% (37/214)\rCounting objects:  18% (39/214)\rCounting objects:  19% (41/214)\rCounting objects:  20% (43/214)\rCounting objects:  21% (45/214)\rCounting objects:  22% (48/214)\rCounting objects:  23% (50/214)\rCounting objects:  24% (52/214)\rCounting objects:  25% (54/214)\rCounting objects:  26% (56/214)\rCounting objects:  27% (58/214)\rCounting objects:  28% (60/214)\rCounting objects:  29% (63/214)\rCounting objects:  30% (65/214)\rCounting objects:  31% (67/214)\rCounting objects:  32% (69/214)\rCounting objects:  33% (71/214)\rCounting objects:  34% (73/214)\rCounting objects:  35% (75/214)\rCounting objects:  36% (78/214)\rCounting objects:  37% (80/214)\rCounting objects:  38% (82/214)\rCounting objects:  39% (84/214)\rCounting objects:  40% (86/214)\rCounting objects:  41% (88/214)\rCounting objects:  42% (90/214)\rCounting objects:  43% (93/214)\rCounting objects:  44% (95/214)\rCounting objects:  45% (97/214)\rCounting objects:  46% (99/214)\rCounting objects:  47% (101/214)\rCounting objects:  48% (103/214)\rCounting objects:  49% (105/214)\rCounting objects:  50% (107/214)\rCounting objects:  51% (110/214)\rCounting objects:  52% (112/214)\rCounting objects:  53% (114/214)\rCounting objects:  54% (116/214)\rCounting objects:  55% (118/214)\rCounting objects:  56% (120/214)\rCounting objects:  57% (122/214)\rCounting objects:  58% (125/214)\rCounting objects:  59% (127/214)\rCounting objects:  60% (129/214)\rCounting objects:  61% (131/214)\rCounting objects:  62% (133/214)\rCounting objects:  63% (135/214)\rCounting objects:  64% (137/214)\rCounting objects:  65% (140/214)\rCounting objects:  66% (142/214)\rCounting objects:  67% (144/214)\rCounting objects:  68% (146/214)\rCounting objects:  69% (148/214)\rCounting objects:  70% (150/214)\rCounting objects:  71% (152/214)\rCounting objects:  72% (155/214)\rCounting objects:  73% (157/214)\rCounting objects:  74% (159/214)\rCounting objects:  75% (161/214)\rCounting objects:  76% (163/214)\rCounting objects:  77% (165/214)\rCounting objects:  78% (167/214)\rCounting objects:  79% (170/214)\rCounting objects:  80% (172/214)\rCounting objects:  81% (174/214)\rCounting objects:  82% (176/214)\rCounting objects:  83% (178/214)\rCounting objects:  84% (180/214)\rCounting objects:  85% (182/214)\rCounting objects:  86% (185/214)\rCounting objects:  87% (187/214)\rCounting objects:  88% (189/214)\rCounting objects:  89% (191/214)\rCounting objects:  90% (193/214)\rCounting objects:  91% (195/214)\rCounting objects:  92% (197/214)\rCounting objects:  93% (200/214)\rCounting objects:  94% (202/214)\rCounting objects:  95% (204/214)\rCounting objects:  96% (206/214)\rCounting objects:  97% (208/214)\rCounting objects:  98% (210/214)\rCounting objects:  99% (212/214)\rCounting objects: 100% (214/214)\rCounting objects: 100% (214/214), done.\n",
            "Delta compression using up to 2 threads\n",
            "Compressing objects: 100% (211/211), done.\n",
            "Writing objects: 100% (211/211), 46.22 MiB | 11.13 MiB/s, done.\n",
            "Total 211 (delta 0), reused 0 (delta 0), pack-reused 0\n",
            "To https://github.com/Timure228/Dataset-separation.git\n",
            " + ac5f5f4...01d5f9b main -> main (forced update)\n"
          ]
        }
      ]
    }
  ]
}
