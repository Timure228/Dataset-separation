{
  "nbformat": 4,
  "nbformat_minor": 0,
  "metadata": {
    "colab": {
      "provenance": []
    },
    "kernelspec": {
      "name": "python3",
      "display_name": "Python 3"
    },
    "language_info": {
      "name": "python"
    }
  },
  "cells": [
    {
      "cell_type": "markdown",
      "source": [
        "# I'm going to decrease the `torchvision.datasets.FGVCAircraft`\n",
        "\n",
        "In the first version on GitHub it was a bit complex for Neural Network (planes were very similar to each other), so I decided to simplify the data. There are now just planes with unique first letter."
      ],
      "metadata": {
        "id": "-fb_VQ2pyT8h"
      }
    },
    {
      "cell_type": "code",
      "source": [
        "# Import libraries and set the directory\n",
        "import torch\n",
        "import torchvision\n",
        "import pathlib\n",
        "import matplotlib.pyplot as plt\n",
        "\n",
        "data_dir = pathlib.Path(\"../content/aircrafts\")"
      ],
      "metadata": {
        "id": "ZBxPFyp_zbXG"
      },
      "execution_count": null,
      "outputs": []
    },
    {
      "cell_type": "code",
      "source": [
        "# Load the dataset\n",
        "\n",
        "# Train dataset\n",
        "train_dataset = torchvision.datasets.FGVCAircraft(root=data_dir,\n",
        "                                                  split=\"train\",\n",
        "                                                  # transform=torchvision.transforms.ToTensor(),\n",
        "                                                  download=True)\n",
        "\n",
        "# Test dataset\n",
        "test_dataset = torchvision.datasets.FGVCAircraft(root=data_dir,\n",
        "                                                 split=\"test\",\n",
        "                                                 # transform=torchvision.transforms.ToTensor(),\n",
        "                                                 download=True)\n",
        "\n"
      ],
      "metadata": {
        "id": "yxRl8rwQzq3l",
        "colab": {
          "base_uri": "https://localhost:8080/"
        },
        "outputId": "849c1795-3beb-4cfd-c449-3d0677f3e852"
      },
      "execution_count": null,
      "outputs": [
        {
          "output_type": "stream",
          "name": "stdout",
          "text": [
            "Downloading https://www.robots.ox.ac.uk/~vgg/data/fgvc-aircraft/archives/fgvc-aircraft-2013b.tar.gz to ../content/aircrafts/fgvc-aircraft-2013b.tar.gz\n"
          ]
        },
        {
          "output_type": "stream",
          "name": "stderr",
          "text": [
            "100%|██████████| 2.75G/2.75G [01:44<00:00, 26.3MB/s]\n"
          ]
        },
        {
          "output_type": "stream",
          "name": "stdout",
          "text": [
            "Extracting ../content/aircrafts/fgvc-aircraft-2013b.tar.gz to ../content/aircrafts\n"
          ]
        }
      ]
    },
    {
      "cell_type": "code",
      "source": [
        "train_dataloader = torch.utils.data.DataLoader(dataset=train_dataset,\n",
        "                              shuffle=True)\n",
        "\n",
        "test_dataloader = torch.utils.data.DataLoader(dataset=test_dataset,\n",
        "                             shuffle=False)"
      ],
      "metadata": {
        "id": "Y_Ej0m8NSDL8"
      },
      "execution_count": null,
      "outputs": []
    },
    {
      "cell_type": "code",
      "source": [
        "classes_name = train_dataset.classes"
      ],
      "metadata": {
        "id": "QLnympzu38Rv"
      },
      "execution_count": null,
      "outputs": []
    },
    {
      "cell_type": "code",
      "source": [
        "classes_name"
      ],
      "metadata": {
        "colab": {
          "base_uri": "https://localhost:8080/"
        },
        "id": "OyOlP3dls3i3",
        "outputId": "0357a773-8b10-4fde-fdbe-0324ab8982df",
        "collapsed": true
      },
      "execution_count": null,
      "outputs": [
        {
          "output_type": "execute_result",
          "data": {
            "text/plain": [
              "['707-320',\n",
              " '727-200',\n",
              " '737-200',\n",
              " '737-300',\n",
              " '737-400',\n",
              " '737-500',\n",
              " '737-600',\n",
              " '737-700',\n",
              " '737-800',\n",
              " '737-900',\n",
              " '747-100',\n",
              " '747-200',\n",
              " '747-300',\n",
              " '747-400',\n",
              " '757-200',\n",
              " '757-300',\n",
              " '767-200',\n",
              " '767-300',\n",
              " '767-400',\n",
              " '777-200',\n",
              " '777-300',\n",
              " 'A300B4',\n",
              " 'A310',\n",
              " 'A318',\n",
              " 'A319',\n",
              " 'A320',\n",
              " 'A321',\n",
              " 'A330-200',\n",
              " 'A330-300',\n",
              " 'A340-200',\n",
              " 'A340-300',\n",
              " 'A340-500',\n",
              " 'A340-600',\n",
              " 'A380',\n",
              " 'ATR-42',\n",
              " 'ATR-72',\n",
              " 'An-12',\n",
              " 'BAE 146-200',\n",
              " 'BAE 146-300',\n",
              " 'BAE-125',\n",
              " 'Beechcraft 1900',\n",
              " 'Boeing 717',\n",
              " 'C-130',\n",
              " 'C-47',\n",
              " 'CRJ-200',\n",
              " 'CRJ-700',\n",
              " 'CRJ-900',\n",
              " 'Cessna 172',\n",
              " 'Cessna 208',\n",
              " 'Cessna 525',\n",
              " 'Cessna 560',\n",
              " 'Challenger 600',\n",
              " 'DC-10',\n",
              " 'DC-3',\n",
              " 'DC-6',\n",
              " 'DC-8',\n",
              " 'DC-9-30',\n",
              " 'DH-82',\n",
              " 'DHC-1',\n",
              " 'DHC-6',\n",
              " 'DHC-8-100',\n",
              " 'DHC-8-300',\n",
              " 'DR-400',\n",
              " 'Dornier 328',\n",
              " 'E-170',\n",
              " 'E-190',\n",
              " 'E-195',\n",
              " 'EMB-120',\n",
              " 'ERJ 135',\n",
              " 'ERJ 145',\n",
              " 'Embraer Legacy 600',\n",
              " 'Eurofighter Typhoon',\n",
              " 'F-16A/B',\n",
              " 'F/A-18',\n",
              " 'Falcon 2000',\n",
              " 'Falcon 900',\n",
              " 'Fokker 100',\n",
              " 'Fokker 50',\n",
              " 'Fokker 70',\n",
              " 'Global Express',\n",
              " 'Gulfstream IV',\n",
              " 'Gulfstream V',\n",
              " 'Hawk T1',\n",
              " 'Il-76',\n",
              " 'L-1011',\n",
              " 'MD-11',\n",
              " 'MD-80',\n",
              " 'MD-87',\n",
              " 'MD-90',\n",
              " 'Metroliner',\n",
              " 'Model B200',\n",
              " 'PA-28',\n",
              " 'SR-20',\n",
              " 'Saab 2000',\n",
              " 'Saab 340',\n",
              " 'Spitfire',\n",
              " 'Tornado',\n",
              " 'Tu-134',\n",
              " 'Tu-154',\n",
              " 'Yak-42']"
            ]
          },
          "metadata": {},
          "execution_count": 6
        }
      ]
    },
    {
      "cell_type": "markdown",
      "source": [
        "## Here is how I separated classes names"
      ],
      "metadata": {
        "id": "Xu4D1NcaqGSO"
      }
    },
    {
      "cell_type": "code",
      "source": [
        "unique_classes_name = list([(i, classes_name[i]) for i in range(len(classes_name) - 1) if classes_name[i+1][0] != classes_name[i][0]])\n",
        "unique_classes_name"
      ],
      "metadata": {
        "colab": {
          "base_uri": "https://localhost:8080/"
        },
        "id": "MKFcHPW-phmW",
        "outputId": "86ab9a4b-1087-4e79-c579-c02368c499fd"
      },
      "execution_count": null,
      "outputs": [
        {
          "output_type": "execute_result",
          "data": {
            "text/plain": [
              "[(20, '777-300'),\n",
              " (36, 'An-12'),\n",
              " (41, 'Boeing 717'),\n",
              " (51, 'Challenger 600'),\n",
              " (63, 'Dornier 328'),\n",
              " (71, 'Eurofighter Typhoon'),\n",
              " (78, 'Fokker 70'),\n",
              " (81, 'Gulfstream V'),\n",
              " (82, 'Hawk T1'),\n",
              " (83, 'Il-76'),\n",
              " (84, 'L-1011'),\n",
              " (90, 'Model B200'),\n",
              " (91, 'PA-28'),\n",
              " (95, 'Spitfire'),\n",
              " (98, 'Tu-154')]"
            ]
          },
          "metadata": {},
          "execution_count": 133
        }
      ]
    },
    {
      "cell_type": "code",
      "source": [
        "# Check the data\n",
        "train_dataset[2][0], train_dataset[2][1]"
      ],
      "metadata": {
        "colab": {
          "base_uri": "https://localhost:8080/"
        },
        "id": "dfTWDWHm3m1_",
        "outputId": "889a0b11-6744-4317-fcb9-08cffd2614bc"
      },
      "execution_count": null,
      "outputs": [
        {
          "output_type": "execute_result",
          "data": {
            "text/plain": [
              "(<PIL.Image.Image image mode=RGB size=913x687>, 0)"
            ]
          },
          "metadata": {},
          "execution_count": 35
        }
      ]
    },
    {
      "cell_type": "code",
      "source": [
        "train_dataset[1][1]"
      ],
      "metadata": {
        "colab": {
          "base_uri": "https://localhost:8080/"
        },
        "id": "4QQpol-ZrMBM",
        "outputId": "caa49da2-fd08-4836-aeb2-6efa08327925"
      },
      "execution_count": null,
      "outputs": [
        {
          "output_type": "execute_result",
          "data": {
            "text/plain": [
              "0"
            ]
          },
          "metadata": {},
          "execution_count": 51
        }
      ]
    },
    {
      "cell_type": "code",
      "source": [
        "# Example of how im going to put specific class name to the folder\n",
        "i = 0\n",
        "k = 0\n",
        "\n",
        "while train_dataset[i][1] == k:\n",
        "  i += 1\n",
        "  print(\"opa\")"
      ],
      "metadata": {
        "collapsed": true,
        "id": "rfCzJyhPsLps"
      },
      "execution_count": null,
      "outputs": []
    },
    {
      "cell_type": "code",
      "source": [
        "i = 0\n",
        "\n",
        "while train_dataset[i][1] != 82:\n",
        "  i += 10\n",
        "print(i)"
      ],
      "metadata": {
        "colab": {
          "base_uri": "https://localhost:8080/"
        },
        "id": "TRwJ59LL0BOS",
        "outputId": "24a49f97-944c-46d8-ef6f-6ef19bbd83b4"
      },
      "execution_count": null,
      "outputs": [
        {
          "output_type": "stream",
          "name": "stdout",
          "text": [
            "2740\n"
          ]
        }
      ]
    },
    {
      "cell_type": "code",
      "source": [],
      "metadata": {
        "colab": {
          "base_uri": "https://localhost:8080/"
        },
        "id": "7Dc79DD_3iFr",
        "outputId": "41c606cd-8b8b-459b-fb42-8a5e2255470f"
      },
      "execution_count": null,
      "outputs": [
        {
          "output_type": "execute_result",
          "data": {
            "text/plain": [
              "20"
            ]
          },
          "metadata": {},
          "execution_count": 134
        }
      ]
    },
    {
      "cell_type": "code",
      "source": [
        "import os\n",
        "root = pathlib.Path(\"../content/separated\")\n",
        "\n",
        "# Creates a direction with jpg images\n",
        "def create_dir(root=root, splits=[\"train\", \"test\"], train_dataset=train_dataset, test_dataset=test_dataset):\n",
        "  for split in splits:\n",
        "    if split == \"train\":\n",
        "      for i, class_name in unique_classes_name:\n",
        "        j = 0\n",
        "        while train_dataset[j][1] != i:\n",
        "          j += 10\n",
        "        if not (root / split / class_name).is_dir():\n",
        "          (root / split / class_name).mkdir(parents=True, exist_ok=True)\n",
        "        while train_dataset[j][1] == i:\n",
        "          train_dataset[j][0].save(root / split / class_name / str(f\"img{j}.jpg\"))\n",
        "          j += 1\n",
        "    else:\n",
        "      for i, class_name in unique_classes_name:\n",
        "        j = 0\n",
        "        while test_dataset[j][1] != i:\n",
        "          j += 10\n",
        "        if not (root / split / class_name).is_dir():\n",
        "          (root / split / class_name).mkdir(parents=True, exist_ok=True)\n",
        "        while test_dataset[j][1] == i:\n",
        "          test_dataset[j][0].save(root / split / class_name / str(f\"img{j}.jpg\"))\n",
        "          j += 1"
      ],
      "metadata": {
        "id": "9caNA_ZcHNzv"
      },
      "execution_count": null,
      "outputs": []
    },
    {
      "cell_type": "code",
      "source": [
        "create_dir()"
      ],
      "metadata": {
        "id": "D1pFCdj64Z85"
      },
      "execution_count": null,
      "outputs": []
    },
    {
      "cell_type": "code",
      "source": [
        "# Let's walk through and each image count\n",
        "import os\n",
        "len_img = 0\n",
        "for dirpath, dirnames, filenames in os.walk(\"../content/separated\"):\n",
        "  print(f\"There are {len(dirnames)} directories and {len(filenames)} images in '{dirpath}'.\")\n",
        "  len_img += len(filenames)"
      ],
      "metadata": {
        "colab": {
          "base_uri": "https://localhost:8080/"
        },
        "collapsed": true,
        "id": "Yo8F77yOkdff",
        "outputId": "83c1181b-6c6d-480a-eb81-526111235606"
      },
      "execution_count": null,
      "outputs": [
        {
          "output_type": "stream",
          "name": "stdout",
          "text": [
            "There are 2 directories and 0 images in '../content/separated'.\n",
            "There are 12 directories and 0 images in '../content/separated/train'.\n",
            "There are 0 directories and 30 images in '../content/separated/train/777-300'.\n",
            "There are 0 directories and 30 images in '../content/separated/train/Tu-154'.\n",
            "There are 0 directories and 34 images in '../content/separated/train/Model B200'.\n",
            "There are 0 directories and 30 images in '../content/separated/train/Il-76'.\n",
            "There are 0 directories and 27 images in '../content/separated/train/Hawk T1'.\n",
            "There are 0 directories and 34 images in '../content/separated/train/Dornier 328'.\n",
            "There are 0 directories and 27 images in '../content/separated/train/PA-28'.\n",
            "There are 0 directories and 34 images in '../content/separated/train/Gulfstream V'.\n",
            "There are 0 directories and 34 images in '../content/separated/train/Challenger 600'.\n",
            "There are 0 directories and 30 images in '../content/separated/train/Eurofighter Typhoon'.\n",
            "There are 0 directories and 30 images in '../content/separated/train/Spitfire'.\n",
            "There are 0 directories and 34 images in '../content/separated/train/An-12'.\n",
            "There are 12 directories and 0 images in '../content/separated/test'.\n",
            "There are 0 directories and 30 images in '../content/separated/test/777-300'.\n",
            "There are 0 directories and 30 images in '../content/separated/test/Tu-154'.\n",
            "There are 0 directories and 33 images in '../content/separated/test/Model B200'.\n",
            "There are 0 directories and 30 images in '../content/separated/test/Il-76'.\n",
            "There are 0 directories and 26 images in '../content/separated/test/Hawk T1'.\n",
            "There are 0 directories and 33 images in '../content/separated/test/Dornier 328'.\n",
            "There are 0 directories and 26 images in '../content/separated/test/PA-28'.\n",
            "There are 0 directories and 33 images in '../content/separated/test/Gulfstream V'.\n",
            "There are 0 directories and 33 images in '../content/separated/test/Challenger 600'.\n",
            "There are 0 directories and 30 images in '../content/separated/test/Eurofighter Typhoon'.\n",
            "There are 0 directories and 30 images in '../content/separated/test/Spitfire'.\n",
            "There are 0 directories and 33 images in '../content/separated/test/An-12'.\n"
          ]
        }
      ]
    },
    {
      "cell_type": "code",
      "source": [
        "len_img"
      ],
      "metadata": {
        "colab": {
          "base_uri": "https://localhost:8080/"
        },
        "id": "No95VdvulHI3",
        "outputId": "85bbb285-f560-4274-f700-50bdffaa6679"
      },
      "execution_count": null,
      "outputs": [
        {
          "output_type": "execute_result",
          "data": {
            "text/plain": [
              "741"
            ]
          },
          "metadata": {},
          "execution_count": 150
        }
      ]
    },
    {
      "cell_type": "code",
      "source": [
        "# Converting it to a .zip file\n",
        "import shutil\n",
        "zip_directory = \"../content/separated\"\n",
        "shutil.make_archive(f\"separated_aircrafts_{len_img}\",\n",
        "                    format=\"zip\",\n",
        "                    root_dir=zip_directory)"
      ],
      "metadata": {
        "colab": {
          "base_uri": "https://localhost:8080/",
          "height": 35
        },
        "id": "KAevdMigrSPQ",
        "outputId": "00daa614-43ef-4280-ec44-ea865830656e",
        "collapsed": true
      },
      "execution_count": null,
      "outputs": [
        {
          "output_type": "execute_result",
          "data": {
            "text/plain": [
              "'/content/separated_aircrafts_741.zip'"
            ],
            "application/vnd.google.colaboratory.intrinsic+json": {
              "type": "string"
            }
          },
          "metadata": {},
          "execution_count": 151
        }
      ]
    },
    {
      "cell_type": "code",
      "source": [
        "# Delete if not needed\n",
        "%rm -rf \"/content/separated/train/L-1011\"\n",
        "%rm -rf \"/content/separated/test/L-1011\""
      ],
      "metadata": {
        "id": "x97u0ehinyNA"
      },
      "execution_count": null,
      "outputs": []
    }
  ]
}