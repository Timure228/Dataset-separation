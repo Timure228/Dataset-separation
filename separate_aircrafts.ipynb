{
  "nbformat": 4,
  "nbformat_minor": 0,
  "metadata": {
    "colab": {
      "provenance": [],
      "authorship_tag": "ABX9TyMESsy68ZTg2wZpd9k9FskL",
      "include_colab_link": true
    },
    "kernelspec": {
      "name": "python3",
      "display_name": "Python 3"
    },
    "language_info": {
      "name": "python"
    }
  },
  "cells": [
    {
      "cell_type": "markdown",
      "metadata": {
        "id": "view-in-github",
        "colab_type": "text"
      },
      "source": [
        "<a href=\"https://colab.research.google.com/github/Timure228/Dataset-separation/blob/main/separate_aircrafts.ipynb\" target=\"_parent\"><img src=\"https://colab.research.google.com/assets/colab-badge.svg\" alt=\"Open In Colab\"/></a>"
      ]
    },
    {
      "cell_type": "markdown",
      "source": [
        "# I'm going to decrease the `torchvision.datasets.FGVCAircraft`\n",
        "\n",
        "In the first version on GitHub it was a bit complex for Neural Network (planes were very similar to each other), so I decided to simplify the data. There are now just planes with unique first letter."
      ],
      "metadata": {
        "id": "-fb_VQ2pyT8h"
      }
    },
    {
      "cell_type": "code",
      "source": [
        "# Import libraries and set the directory\n",
        "import torch\n",
        "import torchvision\n",
        "import pathlib\n",
        "import matplotlib.pyplot as plt\n",
        "\n",
        "data_dir = pathlib.Path(\"../content/aircrafts\")"
      ],
      "metadata": {
        "id": "ZBxPFyp_zbXG"
      },
      "execution_count": 2,
      "outputs": []
    },
    {
      "cell_type": "code",
      "source": [
        "# Load the dataset\n",
        "\n",
        "# Train dataset\n",
        "train_dataset = torchvision.datasets.FGVCAircraft(root=data_dir,\n",
        "                                                  split=\"train\",\n",
        "                                                  # transform=torchvision.transforms.ToTensor(),\n",
        "                                                  download=True)\n",
        "\n",
        "# Test dataset\n",
        "test_dataset = torchvision.datasets.FGVCAircraft(root=data_dir,\n",
        "                                                 split=\"test\",\n",
        "                                                 # transform=torchvision.transforms.ToTensor(),\n",
        "                                                 download=True)\n",
        "\n"
      ],
      "metadata": {
        "id": "yxRl8rwQzq3l",
        "colab": {
          "base_uri": "https://localhost:8080/"
        },
        "outputId": "849c1795-3beb-4cfd-c449-3d0677f3e852"
      },
      "execution_count": 3,
      "outputs": [
        {
          "output_type": "stream",
          "name": "stdout",
          "text": [
            "Downloading https://www.robots.ox.ac.uk/~vgg/data/fgvc-aircraft/archives/fgvc-aircraft-2013b.tar.gz to ../content/aircrafts/fgvc-aircraft-2013b.tar.gz\n"
          ]
        },
        {
          "output_type": "stream",
          "name": "stderr",
          "text": [
            "100%|██████████| 2.75G/2.75G [01:44<00:00, 26.3MB/s]\n"
          ]
        },
        {
          "output_type": "stream",
          "name": "stdout",
          "text": [
            "Extracting ../content/aircrafts/fgvc-aircraft-2013b.tar.gz to ../content/aircrafts\n"
          ]
        }
      ]
    },
    {
      "cell_type": "code",
      "source": [
        "train_dataloader = torch.utils.data.DataLoader(dataset=train_dataset,\n",
        "                              shuffle=True)\n",
        "\n",
        "test_dataloader = torch.utils.data.DataLoader(dataset=test_dataset,\n",
        "                             shuffle=False)"
      ],
      "metadata": {
        "id": "Y_Ej0m8NSDL8"
      },
      "execution_count": 4,
      "outputs": []
    },
    {
      "cell_type": "code",
      "source": [
        "classes_name = train_dataset.classes"
      ],
      "metadata": {
        "id": "QLnympzu38Rv"
      },
      "execution_count": 5,
      "outputs": []
    },
    {
      "cell_type": "code",
      "source": [
        "classes_name"
      ],
      "metadata": {
        "colab": {
          "base_uri": "https://localhost:8080/"
        },
        "id": "OyOlP3dls3i3",
        "outputId": "0357a773-8b10-4fde-fdbe-0324ab8982df",
        "collapsed": true
      },
      "execution_count": 6,
      "outputs": [
        {
          "output_type": "execute_result",
          "data": {
            "text/plain": [
              "['707-320',\n",
              " '727-200',\n",
              " '737-200',\n",
              " '737-300',\n",
              " '737-400',\n",
              " '737-500',\n",
              " '737-600',\n",
              " '737-700',\n",
              " '737-800',\n",
              " '737-900',\n",
              " '747-100',\n",
              " '747-200',\n",
              " '747-300',\n",
              " '747-400',\n",
              " '757-200',\n",
              " '757-300',\n",
              " '767-200',\n",
              " '767-300',\n",
              " '767-400',\n",
              " '777-200',\n",
              " '777-300',\n",
              " 'A300B4',\n",
              " 'A310',\n",
              " 'A318',\n",
              " 'A319',\n",
              " 'A320',\n",
              " 'A321',\n",
              " 'A330-200',\n",
              " 'A330-300',\n",
              " 'A340-200',\n",
              " 'A340-300',\n",
              " 'A340-500',\n",
              " 'A340-600',\n",
              " 'A380',\n",
              " 'ATR-42',\n",
              " 'ATR-72',\n",
              " 'An-12',\n",
              " 'BAE 146-200',\n",
              " 'BAE 146-300',\n",
              " 'BAE-125',\n",
              " 'Beechcraft 1900',\n",
              " 'Boeing 717',\n",
              " 'C-130',\n",
              " 'C-47',\n",
              " 'CRJ-200',\n",
              " 'CRJ-700',\n",
              " 'CRJ-900',\n",
              " 'Cessna 172',\n",
              " 'Cessna 208',\n",
              " 'Cessna 525',\n",
              " 'Cessna 560',\n",
              " 'Challenger 600',\n",
              " 'DC-10',\n",
              " 'DC-3',\n",
              " 'DC-6',\n",
              " 'DC-8',\n",
              " 'DC-9-30',\n",
              " 'DH-82',\n",
              " 'DHC-1',\n",
              " 'DHC-6',\n",
              " 'DHC-8-100',\n",
              " 'DHC-8-300',\n",
              " 'DR-400',\n",
              " 'Dornier 328',\n",
              " 'E-170',\n",
              " 'E-190',\n",
              " 'E-195',\n",
              " 'EMB-120',\n",
              " 'ERJ 135',\n",
              " 'ERJ 145',\n",
              " 'Embraer Legacy 600',\n",
              " 'Eurofighter Typhoon',\n",
              " 'F-16A/B',\n",
              " 'F/A-18',\n",
              " 'Falcon 2000',\n",
              " 'Falcon 900',\n",
              " 'Fokker 100',\n",
              " 'Fokker 50',\n",
              " 'Fokker 70',\n",
              " 'Global Express',\n",
              " 'Gulfstream IV',\n",
              " 'Gulfstream V',\n",
              " 'Hawk T1',\n",
              " 'Il-76',\n",
              " 'L-1011',\n",
              " 'MD-11',\n",
              " 'MD-80',\n",
              " 'MD-87',\n",
              " 'MD-90',\n",
              " 'Metroliner',\n",
              " 'Model B200',\n",
              " 'PA-28',\n",
              " 'SR-20',\n",
              " 'Saab 2000',\n",
              " 'Saab 340',\n",
              " 'Spitfire',\n",
              " 'Tornado',\n",
              " 'Tu-134',\n",
              " 'Tu-154',\n",
              " 'Yak-42']"
            ]
          },
          "metadata": {},
          "execution_count": 6
        }
      ]
    },
    {
      "cell_type": "markdown",
      "source": [
        "## Here is how I separated classes names"
      ],
      "metadata": {
        "id": "Xu4D1NcaqGSO"
      }
    },
    {
      "cell_type": "code",
      "source": [
        "unique_classes_name = list(enumerate([classes_name[i] for i in range(len(classes_name) - 1) if classes_name[i+1][0] != classes_name[i][0]]))\n",
        "unique_classes_name"
      ],
      "metadata": {
        "colab": {
          "base_uri": "https://localhost:8080/"
        },
        "id": "MKFcHPW-phmW",
        "outputId": "1c45de6e-a5b3-4b96-9c7d-2093b5123558"
      },
      "execution_count": 34,
      "outputs": [
        {
          "output_type": "execute_result",
          "data": {
            "text/plain": [
              "[(0, '777-300'),\n",
              " (1, 'An-12'),\n",
              " (2, 'Boeing 717'),\n",
              " (3, 'Challenger 600'),\n",
              " (4, 'Dornier 328'),\n",
              " (5, 'Eurofighter Typhoon'),\n",
              " (6, 'Fokker 70'),\n",
              " (7, 'Gulfstream V'),\n",
              " (8, 'Hawk T1'),\n",
              " (9, 'Il-76'),\n",
              " (10, 'L-1011'),\n",
              " (11, 'Model B200'),\n",
              " (12, 'PA-28'),\n",
              " (13, 'Spitfire'),\n",
              " (14, 'Tu-154')]"
            ]
          },
          "metadata": {},
          "execution_count": 34
        }
      ]
    },
    {
      "cell_type": "code",
      "source": [
        "# Check the data\n",
        "train_dataset[2][0], train_dataset[2][1]"
      ],
      "metadata": {
        "colab": {
          "base_uri": "https://localhost:8080/"
        },
        "id": "dfTWDWHm3m1_",
        "outputId": "889a0b11-6744-4317-fcb9-08cffd2614bc"
      },
      "execution_count": 35,
      "outputs": [
        {
          "output_type": "execute_result",
          "data": {
            "text/plain": [
              "(<PIL.Image.Image image mode=RGB size=913x687>, 0)"
            ]
          },
          "metadata": {},
          "execution_count": 35
        }
      ]
    },
    {
      "cell_type": "code",
      "source": [
        "train_dataset[1][1]"
      ],
      "metadata": {
        "colab": {
          "base_uri": "https://localhost:8080/"
        },
        "id": "4QQpol-ZrMBM",
        "outputId": "caa49da2-fd08-4836-aeb2-6efa08327925"
      },
      "execution_count": 51,
      "outputs": [
        {
          "output_type": "execute_result",
          "data": {
            "text/plain": [
              "0"
            ]
          },
          "metadata": {},
          "execution_count": 51
        }
      ]
    },
    {
      "cell_type": "code",
      "source": [
        "# Example of how im going to put specific class name to the folder\n",
        "i = 0\n",
        "k = 0\n",
        "\n",
        "while train_dataset[i][1] == k:\n",
        "  i += 1\n",
        "  print(\"opa\")"
      ],
      "metadata": {
        "colab": {
          "base_uri": "https://localhost:8080/"
        },
        "collapsed": true,
        "id": "rfCzJyhPsLps",
        "outputId": "a6de57b1-962e-4228-d452-754e57516609"
      },
      "execution_count": 55,
      "outputs": [
        {
          "output_type": "stream",
          "name": "stdout",
          "text": [
            "opa\n",
            "opa\n",
            "opa\n",
            "opa\n",
            "opa\n",
            "opa\n",
            "opa\n",
            "opa\n",
            "opa\n",
            "opa\n",
            "opa\n",
            "opa\n",
            "opa\n",
            "opa\n",
            "opa\n",
            "opa\n",
            "opa\n",
            "opa\n",
            "opa\n",
            "opa\n",
            "opa\n",
            "opa\n",
            "opa\n",
            "opa\n",
            "opa\n",
            "opa\n",
            "opa\n",
            "opa\n",
            "opa\n",
            "opa\n",
            "opa\n",
            "opa\n",
            "opa\n",
            "opa\n"
          ]
        }
      ]
    },
    {
      "cell_type": "code",
      "source": [
        "import os\n",
        "root = pathlib.Path(\"../content/separated\")\n",
        "\n",
        "# Creates a direction with jpg images\n",
        "def create_dir(root=root, splits=[\"train\", \"test\"], train_dataset=train_dataset, test_dataset=test_dataset):\n",
        "  for split in splits:\n",
        "    j = 0\n",
        "    if split == \"train\":\n",
        "      for i, class_name in unique_classes_name:\n",
        "        if not (root / split / class_name).is_dir():\n",
        "          (root / split / class_name).mkdir(parents=True, exist_ok=True)\n",
        "        while train_dataset[j][1] == i:\n",
        "          train_dataset[j][0].save(root / split / class_name / str(f\"img{j}.jpg\"))\n",
        "          j += 1\n",
        "    else:\n",
        "      for i, class_name in unique_classes_name:\n",
        "        if not (root / split / class_name).is_dir():\n",
        "          (root / split / class_name).mkdir(parents=True, exist_ok=True)\n",
        "        while test_dataset[j][1] == i:\n",
        "          test_dataset[j][0].save(root / split / class_name / str(f\"img{j}.jpg\"))\n",
        "          j += 1"
      ],
      "metadata": {
        "id": "9caNA_ZcHNzv"
      },
      "execution_count": 64,
      "outputs": []
    },
    {
      "cell_type": "code",
      "source": [
        "create_dir()"
      ],
      "metadata": {
        "id": "wOv1FetMizkV"
      },
      "execution_count": 66,
      "outputs": []
    },
    {
      "cell_type": "code",
      "source": [
        "# Let's walk through and each image count\n",
        "import os\n",
        "len_img = 0\n",
        "for dirpath, dirnames, filenames in os.walk(\"../content/separated\"):\n",
        "  print(f\"There are {len(dirnames)} directories and {len(filenames)} images in '{dirpath}'.\")\n",
        "  len_img += len(filenames)"
      ],
      "metadata": {
        "colab": {
          "base_uri": "https://localhost:8080/"
        },
        "collapsed": true,
        "id": "Yo8F77yOkdff",
        "outputId": "194af24f-dcae-42ea-ac92-bcc3a8c7b1f3"
      },
      "execution_count": 68,
      "outputs": [
        {
          "output_type": "stream",
          "name": "stdout",
          "text": [
            "There are 2 directories and 0 images in '../content/separated'.\n",
            "There are 15 directories and 0 images in '../content/separated/train'.\n",
            "There are 0 directories and 34 images in '../content/separated/train/777-300'.\n",
            "There are 0 directories and 33 images in '../content/separated/train/Tu-154'.\n",
            "There are 0 directories and 33 images in '../content/separated/train/Model B200'.\n",
            "There are 0 directories and 34 images in '../content/separated/train/Il-76'.\n",
            "There are 0 directories and 33 images in '../content/separated/train/Boeing 717'.\n",
            "There are 0 directories and 33 images in '../content/separated/train/Hawk T1'.\n",
            "There are 0 directories and 33 images in '../content/separated/train/Dornier 328'.\n",
            "There are 0 directories and 34 images in '../content/separated/train/PA-28'.\n",
            "There are 0 directories and 33 images in '../content/separated/train/Gulfstream V'.\n",
            "There are 0 directories and 34 images in '../content/separated/train/Challenger 600'.\n",
            "There are 0 directories and 33 images in '../content/separated/train/L-1011'.\n",
            "There are 0 directories and 34 images in '../content/separated/train/Fokker 70'.\n",
            "There are 0 directories and 33 images in '../content/separated/train/Eurofighter Typhoon'.\n",
            "There are 0 directories and 33 images in '../content/separated/train/Spitfire'.\n",
            "There are 0 directories and 33 images in '../content/separated/train/An-12'.\n",
            "There are 15 directories and 0 images in '../content/separated/test'.\n",
            "There are 0 directories and 33 images in '../content/separated/test/777-300'.\n",
            "There are 0 directories and 34 images in '../content/separated/test/Tu-154'.\n",
            "There are 0 directories and 34 images in '../content/separated/test/Model B200'.\n",
            "There are 0 directories and 33 images in '../content/separated/test/Il-76'.\n",
            "There are 0 directories and 34 images in '../content/separated/test/Boeing 717'.\n",
            "There are 0 directories and 34 images in '../content/separated/test/Hawk T1'.\n",
            "There are 0 directories and 33 images in '../content/separated/test/Dornier 328'.\n",
            "There are 0 directories and 33 images in '../content/separated/test/PA-28'.\n",
            "There are 0 directories and 33 images in '../content/separated/test/Gulfstream V'.\n",
            "There are 0 directories and 33 images in '../content/separated/test/Challenger 600'.\n",
            "There are 0 directories and 33 images in '../content/separated/test/L-1011'.\n",
            "There are 0 directories and 33 images in '../content/separated/test/Fokker 70'.\n",
            "There are 0 directories and 34 images in '../content/separated/test/Eurofighter Typhoon'.\n",
            "There are 0 directories and 33 images in '../content/separated/test/Spitfire'.\n",
            "There are 0 directories and 33 images in '../content/separated/test/An-12'.\n"
          ]
        }
      ]
    },
    {
      "cell_type": "code",
      "source": [
        "len_img"
      ],
      "metadata": {
        "colab": {
          "base_uri": "https://localhost:8080/"
        },
        "id": "No95VdvulHI3",
        "outputId": "c45288b2-e927-4577-fc4a-10f5f4f3f933"
      },
      "execution_count": 69,
      "outputs": [
        {
          "output_type": "execute_result",
          "data": {
            "text/plain": [
              "1000"
            ]
          },
          "metadata": {},
          "execution_count": 69
        }
      ]
    },
    {
      "cell_type": "code",
      "source": [
        "# Converting it to a .zip file\n",
        "import shutil\n",
        "zip_directory = \"../content/separated\"\n",
        "shutil.make_archive(f\"separated_aircrafts_{len_img}\",\n",
        "                    format=\"zip\",\n",
        "                    root_dir=zip_directory)"
      ],
      "metadata": {
        "colab": {
          "base_uri": "https://localhost:8080/",
          "height": 35
        },
        "id": "KAevdMigrSPQ",
        "outputId": "45374745-e177-47cc-9c69-de8419927c6a",
        "collapsed": true
      },
      "execution_count": null,
      "outputs": [
        {
          "output_type": "execute_result",
          "data": {
            "text/plain": [
              "'/content/separated_aircrafts_5866.zip'"
            ],
            "application/vnd.google.colaboratory.intrinsic+json": {
              "type": "string"
            }
          },
          "metadata": {},
          "execution_count": 18
        }
      ]
    },
    {
      "cell_type": "code",
      "source": [
        "# Delete if not needed\n",
        "%rm -rf \"/content/separated/\""
      ],
      "metadata": {
        "id": "x97u0ehinyNA"
      },
      "execution_count": 65,
      "outputs": []
    },
    {
      "cell_type": "code",
      "source": [
        "!git push --force origin main"
      ],
      "metadata": {
        "colab": {
          "base_uri": "https://localhost:8080/"
        },
        "id": "KW10esyJ9X4C",
        "outputId": "71072430-26b7-4205-f977-6e0d940fe8eb"
      },
      "execution_count": null,
      "outputs": [
        {
          "output_type": "stream",
          "name": "stdout",
        }
      ]
    }
  ]
}
